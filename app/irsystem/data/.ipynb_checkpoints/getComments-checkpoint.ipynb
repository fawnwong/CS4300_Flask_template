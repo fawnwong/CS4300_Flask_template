{
 "cells": [
  {
   "cell_type": "code",
   "execution_count": 1,
   "metadata": {},
   "outputs": [
    {
     "ename": "ImportError",
     "evalue": "No module named praw",
     "output_type": "error",
     "traceback": [
      "\u001b[0;31m---------------------------------------------------------------------------\u001b[0m",
      "\u001b[0;31mImportError\u001b[0m                               Traceback (most recent call last)",
      "\u001b[0;32m<ipython-input-1-f6c08b94c5dc>\u001b[0m in \u001b[0;36m<module>\u001b[0;34m()\u001b[0m\n\u001b[0;32m----> 1\u001b[0;31m \u001b[0;32mimport\u001b[0m \u001b[0mpraw\u001b[0m\u001b[0;34m\u001b[0m\u001b[0m\n\u001b[0m\u001b[1;32m      2\u001b[0m \u001b[0;34m\u001b[0m\u001b[0m\n\u001b[1;32m      3\u001b[0m reddit = praw.Reddit(user_agent='beepboop (by /u/mykaaa)',\n\u001b[1;32m      4\u001b[0m                      client_id='x5bjEF_ns4CUkg', client_secret=\"-1BxL8LoBp_RvX_PAEv4iyUGrSE\")\n\u001b[1;32m      5\u001b[0m \u001b[0;34m\u001b[0m\u001b[0m\n",
      "\u001b[0;31mImportError\u001b[0m: No module named praw"
     ]
    }
   ],
   "source": [
    "import praw\n",
    "\n",
    "reddit = praw.Reddit(user_agent='beepboop (by /u/mykaaa)',\n",
    "                     client_id='x5bjEF_ns4CUkg', client_secret=\"-1BxL8LoBp_RvX_PAEv4iyUGrSE\")\n",
    "\n",
    "from bs4 import BeautifulSoup\n",
    "from markdown import markdown\n",
    "\n",
    "def markdown_to_text(data):\n",
    "    html = markdown(data)\n",
    "    text = ''.join(BeautifulSoup(html, \"html5lib\").findAll(text=True))\n",
    "    return text\n"
   ]
  },
  {
   "cell_type": "code",
   "execution_count": 2,
   "metadata": {
    "collapsed": true
   },
   "outputs": [],
   "source": [
    "import csv\n",
    "with open('2017 Bot Names.csv', 'rt') as f:\n",
    "    reader = csv.reader(f)\n",
    "    bot_names = list(reader)\n",
    "\n",
    "bot_names = [bot[0] for bot in bot_names]\n",
    "\n",
    "bot_names = bot_names[1:]"
   ]
  },
  {
   "cell_type": "code",
   "execution_count": 3,
   "metadata": {
    "collapsed": true
   },
   "outputs": [],
   "source": [
    "import pprint, time,json\n"
   ]
  },
  {
   "cell_type": "code",
   "execution_count": 4,
   "metadata": {
    "collapsed": true
   },
   "outputs": [],
   "source": [
    "def check_user(username):\n",
    "    exists = True\n",
    "    try:\n",
    "        reddit.redditor(username).fullname\n",
    "    except:\n",
    "        exists = False\n",
    "    return exists\n",
    "\n",
    "def check_comment(id):\n",
    "    exists = True\n",
    "    try:\n",
    "        reddit.comment(id).body\n",
    "    except:\n",
    "        exists = False\n",
    "    return exists"
   ]
  },
  {
   "cell_type": "code",
   "execution_count": 5,
   "metadata": {},
   "outputs": [
    {
     "name": "stdout",
     "output_type": "stream",
     "text": [
      "0\n",
      "100\n",
      "200\n",
      "300\n",
      "400\n",
      "500\n",
      "600\n",
      "700\n",
      "800\n",
      "900\n",
      "----- dumped at 999\n",
      "1000\n",
      "1100\n",
      "1200\n",
      "1300\n",
      "1400\n",
      "1500\n",
      "1600\n",
      "1700\n",
      "1800\n",
      "1900\n",
      "----- dumped at 1999\n",
      "2000\n",
      "2100\n",
      "2200\n",
      "2300\n",
      "2400\n",
      "2500\n",
      "2600\n",
      "2700\n",
      "2800\n",
      "2900\n",
      "----- dumped at 2999\n",
      "3000\n",
      "3100\n",
      "3200\n",
      "3300\n",
      "3400\n",
      "3500\n",
      "3600\n",
      "3700\n",
      "3800\n",
      "3900\n",
      "----- dumped at 3999\n",
      "4000\n",
      "4100\n",
      "4200\n",
      "4300\n",
      "4400\n",
      "4500\n",
      "4600\n",
      "4700\n",
      "4800\n",
      "4900\n",
      "----- dumped at 4999\n",
      "5000\n",
      "5100\n",
      "5200\n",
      "5300\n",
      "5400\n",
      "5500\n",
      "5600\n",
      "5700\n",
      "5800\n",
      "5900\n",
      "----- dumped at 5999\n",
      "6000\n",
      "6100\n",
      "6200\n",
      "6300\n",
      "6400\n",
      "6500\n",
      "6600\n",
      "6700\n",
      "6800\n",
      "6900\n",
      "----- dumped at 6999\n",
      "7000\n",
      "7100\n",
      "7200\n",
      "7300\n",
      "7400\n",
      "7500\n",
      "7600\n",
      "7700\n",
      "7800\n",
      "7900\n",
      "----- dumped at 7999\n",
      "8000\n",
      "8100\n",
      "8200\n",
      "8300\n",
      "8400\n",
      "8500\n",
      "8600\n",
      "8700\n",
      "8800\n",
      "8900\n",
      "----- dumped at 8999\n",
      "9000\n",
      "9100\n",
      "9200\n",
      "9300\n",
      "9400\n",
      "9500\n",
      "9600\n",
      "9700\n",
      "9800\n",
      "9900\n",
      "----- dumped at 9999\n",
      "10000\n",
      "10100\n",
      "10200\n",
      "10300\n",
      "10400\n",
      "10500\n",
      "10600\n",
      "10700\n",
      "10800\n",
      "10900\n",
      "----- dumped at 10999\n",
      "11000\n",
      "11100\n",
      "11200\n",
      "11300\n",
      "11400\n",
      "11500\n",
      "11600\n",
      "11700\n",
      "11800\n",
      "11900\n",
      "finished\n"
     ]
    }
   ],
   "source": [
    "bot_comment_json = {}\n",
    "for i in (range(0,len(bot_names))):\n",
    "    if (i % 100 == 0):\n",
    "        print(i)\n",
    "    username = bot_names[i]\n",
    "    if (check_user(username)):\n",
    "        comments = []\n",
    "        for comment in reddit.redditor(username).comments.new(limit=15):\n",
    "            comment_dict = {}\n",
    "            body = markdown_to_text(comment.body)\n",
    "            comment_dict[\"body\"] = body\n",
    "            replies = []\n",
    "            try:\n",
    "                comment.refresh()\n",
    "                for top_level_comment in comment.replies:\n",
    "                    if check_comment(top_level_comment):\n",
    "                        replies.append(markdown_to_text(top_level_comment.body))\n",
    "            except:\n",
    "                pass\n",
    "            comment_dict[\"replies\"] = replies\n",
    "            comment_dict[\"id\"] = comment.id\n",
    "            comments.append(comment_dict)\n",
    "        bot_comment_json[username] = comments\n",
    "    if (i%1000 == 999):\n",
    "        with open(str(int(i/1000))+'BIGBOTDATA.json', 'w') as fp:\n",
    "            json.dump(bot_comment_json, fp)\n",
    "        bot_comment_json = {}\n",
    "        print(\"----- dumped at \" + str(i))\n",
    "\n",
    "with open('FINALBIGBOTDATA.json', 'w') as fp:\n",
    "    json.dump(bot_comment_json, fp)\n",
    "print(\"finished\")"
   ]
  },
  {
   "cell_type": "code",
   "execution_count": null,
   "metadata": {
    "collapsed": true
   },
   "outputs": [],
   "source": [
    "big_json = {}\n",
    "for i in range(1, 11):\n",
    "    with open(str(i) + 'botdata.json', 'r') as fp:\n",
    "        data = json.load(fp)\n",
    "        big_json.update(data)\n",
    "with open(\"finalbotdata.json\", \"r\") as fp:\n",
    "    data = json.load(fp)\n",
    "    big_json.update(data)\n",
    "print(len(big_json))\n",
    "\n",
    "with open(\"BotComments.json\", \"w\") as fp:\n",
    "    json.dump(big_json, fp)"
   ]
  },
  {
   "cell_type": "code",
   "execution_count": null,
   "metadata": {
    "collapsed": true
   },
   "outputs": [],
   "source": [
    "karma_dict = {}\n",
    "for key in big_json.keys():\n",
    "    redditor = reddit.redditor(key)\n",
    "    karma_dict[key] = redditor.comment_karma\n",
    "    "
   ]
  },
  {
   "cell_type": "code",
   "execution_count": null,
   "metadata": {
    "collapsed": true
   },
   "outputs": [],
   "source": [
    "with open(\"BotKarma.json\", \"w\") as fp:\n",
    "    json.dump(karma_dict, fp)"
   ]
  },
  {
   "cell_type": "code",
   "execution_count": null,
   "metadata": {
    "collapsed": true
   },
   "outputs": [],
   "source": []
  }
 ],
 "metadata": {
  "kernelspec": {
   "display_name": "projectvenv",
   "language": "python",
   "name": "projectvenv"
  },
  "language_info": {
   "codemirror_mode": {
    "name": "ipython",
    "version": 2
   },
   "file_extension": ".py",
   "mimetype": "text/x-python",
   "name": "python",
   "nbconvert_exporter": "python",
   "pygments_lexer": "ipython2",
   "version": "2.7.14"
  }
 },
 "nbformat": 4,
 "nbformat_minor": 2
}
