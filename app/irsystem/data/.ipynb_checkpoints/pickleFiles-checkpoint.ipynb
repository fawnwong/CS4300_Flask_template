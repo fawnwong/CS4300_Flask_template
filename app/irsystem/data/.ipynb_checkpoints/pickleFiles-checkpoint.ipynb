{
 "cells": [
  {
   "cell_type": "code",
   "execution_count": 2,
   "metadata": {},
   "outputs": [],
   "source": [
    "import cPickle\n",
    "import json"
   ]
  },
  {
   "cell_type": "code",
   "execution_count": 5,
   "metadata": {},
   "outputs": [],
   "source": [
    "with open('data.json') as f:\n",
    "    bot_data = json.loads(f.readlines()[0])\n",
    "\n",
    "with open('BigBotComments.json') as f:\n",
    "    big_bot_data = json.loads(f.readlines()[0])\n",
    "    \n",
    "with open('user_results.json') as infile:\n",
    "    result_dict = json.load(infile)"
   ]
  },
  {
   "cell_type": "code",
   "execution_count": 7,
   "metadata": {},
   "outputs": [],
   "source": [
    "cPickle.dump( bot_data, open( \"bot_data.p\", \"wb\" ) )\n",
    "cPickle.dump( big_bot_data, open( \"big_bot_data.p\", \"wb\" ) )\n",
    "cPickle.dump( result_dict, open( \"user_results.p\", \"wb\" ) )"
   ]
  },
  {
   "cell_type": "code",
   "execution_count": null,
   "metadata": {},
   "outputs": [],
   "source": []
  }
 ],
 "metadata": {
  "kernelspec": {
   "display_name": "projectvenv",
   "language": "python",
   "name": "projectvenv"
  },
  "language_info": {
   "codemirror_mode": {
    "name": "ipython",
    "version": 2
   },
   "file_extension": ".py",
   "mimetype": "text/x-python",
   "name": "python",
   "nbconvert_exporter": "python",
   "pygments_lexer": "ipython2",
   "version": "2.7.14"
  }
 },
 "nbformat": 4,
 "nbformat_minor": 2
}
