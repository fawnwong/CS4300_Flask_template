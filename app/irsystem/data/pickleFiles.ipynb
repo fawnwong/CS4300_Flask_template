{
 "cells": [
  {
   "cell_type": "code",
   "execution_count": 10,
   "metadata": {},
   "outputs": [],
   "source": [
    "import cPickle\n",
    "import json\n",
    "import numpy as np\n",
    "from sklearn.feature_extraction.text import TfidfVectorizer"
   ]
  },
  {
   "cell_type": "code",
   "execution_count": 7,
   "metadata": {},
   "outputs": [],
   "source": [
    "with open('data.json') as f:\n",
    "    bot_data = json.loads(f.readlines()[0])\n",
    "\n",
    "with open('BigBotComments.json') as f:\n",
    "    big_bot_data = json.loads(f.readlines()[0])\n",
    "    \n",
    "with open('user_results.json') as infile:\n",
    "    result_dict = json.load(infile)"
   ]
  },
  {
   "cell_type": "code",
   "execution_count": 11,
   "metadata": {},
   "outputs": [
    {
     "name": "stderr",
     "output_type": "stream",
     "text": [
      "/Users/dannagreenberg/Documents/4300beepboop/projectvenv/lib/python2.7/site-packages/sklearn/feature_extraction/text.py:1059: FutureWarning: Conversion of the second argument of issubdtype from `float` to `np.floating` is deprecated. In future, it will be treated as `np.float64 == np.dtype(float).type`.\n",
      "  if hasattr(X, 'dtype') and np.issubdtype(X.dtype, np.float):\n"
     ]
    }
   ],
   "source": [
    "n_feats = 2000\n",
    "doc_by_vocab = np.empty([len(bot_data), n_feats])\n",
    "\n",
    "\n",
    "def build_vectorizer(max_features, stop_words, norm='l2'):\n",
    "    return TfidfVectorizer(max_features = max_features, \n",
    "                                stop_words = stop_words,\n",
    "                                max_df = 0.9,\n",
    "                                min_df = 1,\n",
    "                                norm = norm)\n",
    "\n",
    "tfidf_vec = build_vectorizer(n_feats, \"english\")\n",
    "doc_by_vocab = tfidf_vec.fit_transform([bot_data[d] for d in bot_data.keys()]).toarray()"
   ]
  },
  {
   "cell_type": "code",
   "execution_count": 15,
   "metadata": {},
   "outputs": [],
   "source": [
    "cPickle.dump( bot_data, open( \"bot_data.p\", \"wb\" ) )\n",
    "cPickle.dump( big_bot_data, open( \"big_bot_data.p\", \"wb\" ) )\n",
    "cPickle.dump( result_dict, open( \"user_results.p\", \"wb\" ) )\n",
    "cPickle.dump( tfidf_vec, open( \"vectorizer.p\", \"wb\") )"
   ]
  },
  {
   "cell_type": "code",
   "execution_count": null,
   "metadata": {},
   "outputs": [],
   "source": []
  }
 ],
 "metadata": {
  "kernelspec": {
   "display_name": "projectvenv",
   "language": "python",
   "name": "projectvenv"
  },
  "language_info": {
   "codemirror_mode": {
    "name": "ipython",
    "version": 2
   },
   "file_extension": ".py",
   "mimetype": "text/x-python",
   "name": "python",
   "nbconvert_exporter": "python",
   "pygments_lexer": "ipython2",
   "version": "2.7.14"
  }
 },
 "nbformat": 4,
 "nbformat_minor": 2
}
