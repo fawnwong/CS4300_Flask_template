{
 "cells": [
  {
   "cell_type": "code",
   "execution_count": 1,
   "metadata": {},
   "outputs": [],
   "source": [
    "import cPickle\n",
    "import json\n",
    "import numpy as np\n",
    "from sklearn.feature_extraction.text import TfidfVectorizer"
   ]
  },
  {
   "cell_type": "code",
   "execution_count": 5,
   "metadata": {},
   "outputs": [],
   "source": [
    "with open('BOTCOMMENTS2.json') as f:\n",
    "    bot_data = json.loads(f.readlines()[0])\n",
    "\n",
    "with open('BigBotComments.json') as f:\n",
    "    big_bot_data = json.loads(f.readlines()[0])\n",
    "    \n",
    "with open('user_results.json') as infile:\n",
    "    result_dict = json.load(infile)"
   ]
  },
  {
   "cell_type": "code",
   "execution_count": 7,
   "metadata": {},
   "outputs": [],
   "source": [
    "bot_names = bot_data.keys()\n",
    "string_comments = {}\n",
    "reply_comments = {}\n",
    "for bot in bot_names:\n",
    "    comments = bot_data[bot]\n",
    "    comment = \"\"\n",
    "    replies = \"\"\n",
    "    for c in comments:\n",
    "        comment += c['body']\n",
    "        for reply in c['replies']:\n",
    "            replies += reply\n",
    "            \n",
    "    string_comments[bot] = comment\n",
    "    reply_comments[bot] = replies\n",
    "bot_data = string_comments\n"
   ]
  },
  {
   "cell_type": "code",
   "execution_count": 11,
   "metadata": {},
   "outputs": [],
   "source": [
    "n_feats = 5000\n",
    "doc_by_vocab = np.empty([len(bot_data), n_feats])\n",
    "\n",
    "\n",
    "def build_vectorizer(max_features, stop_words, norm='l2'):\n",
    "    return TfidfVectorizer(max_features = max_features, \n",
    "                                stop_words = stop_words,\n",
    "                                max_df = 0.9,\n",
    "                                min_df = 1,\n",
    "                                norm = norm)\n",
    "\n",
    "tfidf_vec = build_vectorizer(n_feats, \"english\")\n",
    "doc_by_vocab = tfidf_vec.fit_transform([bot_data[d] for d in bot_data.keys()]).toarray()\n",
    "bot_replies = tfidf_vec.fit_transform([reply_comments[d] for d in bot_data.keys()]).toarray()"
   ]
  },
  {
   "cell_type": "code",
   "execution_count": 13,
   "metadata": {},
   "outputs": [],
   "source": [
    "cPickle.dump( bot_data, open( \"bot_data.p\", \"wb\" ) )\n",
    "cPickle.dump( bot_replies, open( \"bot_replies.p\", \"wb\" ) )\n",
    "cPickle.dump( big_bot_data, open( \"big_bot_data.p\", \"wb\" ) )\n",
    "cPickle.dump( result_dict, open( \"user_results.p\", \"wb\" ) )\n",
    "cPickle.dump( doc_by_vocab, open( \"doc_by_vocab.p\", \"wb\") )\n",
    "cPickle.dump( tfidf_vec, open( \"vectorizer.p\", \"wb\") )"
   ]
  },
  {
   "cell_type": "code",
   "execution_count": null,
   "metadata": {
    "collapsed": true
   },
   "outputs": [],
   "source": []
  },
  {
   "cell_type": "code",
   "execution_count": null,
   "metadata": {},
   "outputs": [],
   "source": []
  }
 ],
 "metadata": {
  "kernelspec": {
   "display_name": "projectvenv",
   "language": "python",
   "name": "projectvenv"
  },
  "language_info": {
   "codemirror_mode": {
    "name": "ipython",
    "version": 2
   },
   "file_extension": ".py",
   "mimetype": "text/x-python",
   "name": "python",
   "nbconvert_exporter": "python",
   "pygments_lexer": "ipython2",
   "version": "2.7.14"
  }
 },
 "nbformat": 4,
 "nbformat_minor": 2
}
