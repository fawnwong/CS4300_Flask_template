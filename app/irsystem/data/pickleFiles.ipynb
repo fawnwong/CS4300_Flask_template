{
 "cells": [
  {
   "cell_type": "code",
   "execution_count": 1,
   "metadata": {},
   "outputs": [],
   "source": [
    "import cPickle\n",
    "import json\n",
    "import numpy as np\n",
    "from sklearn.feature_extraction.text import TfidfVectorizer"
   ]
  },
  {
   "cell_type": "code",
   "execution_count": 5,
   "metadata": {},
   "outputs": [],
   "source": [
    "with open('BOTCOMMENTS2.json') as f:\n",
    "    bot_data = json.loads(f.readlines()[0])\n",
    "\n",
    "with open('BigBotComments.json') as f:\n",
    "    big_bot_data = json.loads(f.readlines()[0])\n",
    "    \n",
    "with open('user_results.json') as infile:\n",
    "    result_dict = json.load(infile)"
   ]
  },
  {
   "cell_type": "code",
   "execution_count": 7,
   "metadata": {},
   "outputs": [],
   "source": [
    "bot_names = bot_data.keys()\n",
    "string_comments = {}\n",
    "reply_comments = {}\n",
    "for bot in bot_names:\n",
    "    comments = bot_data[bot]\n",
    "    comment = \"\"\n",
    "    replies = \"\"\n",
    "    for c in comments:\n",
    "        comment += c['body']\n",
    "        for reply in c['replies']:\n",
    "            replies += reply\n",
    "            \n",
    "    string_comments[bot] = comment\n",
    "    reply_comments[bot] = replies\n",
    "bot_data = string_comments\n"
   ]
  },
  {
   "cell_type": "code",
   "execution_count": 14,
   "metadata": {},
   "outputs": [],
   "source": [
    "n_feats = 2000\n",
    "doc_by_vocab = np.empty([len(bot_data), n_feats])\n",
    "\n",
    "\n",
    "def build_vectorizer(max_features, stop_words, norm='l2'):\n",
    "    return TfidfVectorizer(max_features = max_features, \n",
    "                                stop_words = stop_words,\n",
    "                                max_df = 0.9,\n",
    "                                min_df = 1,\n",
    "                                norm = norm)\n",
    "\n",
    "tfidf_vec = build_vectorizer(n_feats, \"english\")\n",
    "doc_by_vocab = tfidf_vec.fit_transform([bot_data[d] for d in bot_data.keys()]).toarray()\n",
    "bot_replies = tfidf_vec.fit_transform([reply_comments[d] for d in bot_data.keys()]).toarray()"
   ]
  },
  {
   "cell_type": "code",
   "execution_count": 41,
   "metadata": {},
   "outputs": [
    {
     "name": "stdout",
     "output_type": "stream",
     "text": [
      "(2000, 100)\n",
      "(3725, 100)\n"
     ]
    }
   ],
   "source": [
    "from scipy.sparse.linalg import svds\n",
    "matrix = doc_by_vocab.transpose()\n",
    "vocabu, s, docv_trans = svds(matrix, k=100)\n",
    "docs_compressed = docv_trans.transpose()\n",
    "print(vocabu.shape)\n",
    "print(docs_compressed.shape)"
   ]
  },
  {
   "cell_type": "code",
   "execution_count": 42,
   "metadata": {},
   "outputs": [],
   "source": [
    "word_to_index = tfidf_vec.vocabulary_\n",
    "index_to_word = {i:t for t,i in word_to_index.iteritems()}\n",
    "from sklearn.preprocessing import normalize\n",
    "vocabu = normalize(vocabu, axis = 1)\n"
   ]
  },
  {
   "cell_type": "code",
   "execution_count": 43,
   "metadata": {},
   "outputs": [],
   "source": [
    "def closest_words(word_in, k = 10):\n",
    "    if word_in not in word_to_index: return \"Not in vocab.\"\n",
    "    sims = vocabu.dot(vocabu[word_to_index[word_in],:])\n",
    "    asort = np.argsort(-sims)[:k+1]\n",
    "    print(asort)\n",
    "    return [(index_to_word[i],sims[i]/sims[asort[0]]) for i in asort[1:]]"
   ]
  },
  {
   "cell_type": "code",
   "execution_count": 46,
   "metadata": {},
   "outputs": [
    {
     "name": "stdout",
     "output_type": "stream",
     "text": [
      "[1316 1765 1011 1564  725 1792  395  809  685  648  719]\n",
      "[(u'term', 0.5070852945389837), (u'limit', 0.5001757559409654), (u'shit', 0.49980998394230997), (u'future', 0.4917336473589449), (u'til', 0.4852259522462252), (u'considering', 0.48450584217379755), (u'hax', 0.4833855272801485), (u'fixed', 0.4814028698287729), (u'father', 0.47814581662697087), (u'fucking', 0.47812225483047166)]\n"
     ]
    }
   ],
   "source": [
    "print(closest_words(\"politics\"))"
   ]
  },
  {
   "cell_type": "code",
   "execution_count": 15,
   "metadata": {},
   "outputs": [],
   "source": [
    "cPickle.dump( bot_data, open( \"bot_data.p\", \"wb\" ) )\n",
    "cPickle.dump( bot_replies, open( \"bot_replies.p\", \"wb\" ) )\n",
    "cPickle.dump( big_bot_data, open( \"big_bot_data.p\", \"wb\" ) )\n",
    "cPickle.dump( result_dict, open( \"user_results.p\", \"wb\" ) )\n",
    "cPickle.dump( doc_by_vocab, open( \"doc_by_vocab.p\", \"wb\") )\n",
    "cPickle.dump( tfidf_vec, open( \"vectorizer.p\", \"wb\") )"
   ]
  },
  {
   "cell_type": "code",
   "execution_count": null,
   "metadata": {
    "collapsed": true
   },
   "outputs": [],
   "source": []
  },
  {
   "cell_type": "code",
   "execution_count": null,
   "metadata": {},
   "outputs": [],
   "source": []
  }
 ],
 "metadata": {
  "kernelspec": {
   "display_name": "projectvenv",
   "language": "python",
   "name": "projectvenv"
  },
  "language_info": {
   "codemirror_mode": {
    "name": "ipython",
    "version": 2
   },
   "file_extension": ".py",
   "mimetype": "text/x-python",
   "name": "python",
   "nbconvert_exporter": "python",
   "pygments_lexer": "ipython2",
   "version": "2.7.14"
  }
 },
 "nbformat": 4,
 "nbformat_minor": 2
}
