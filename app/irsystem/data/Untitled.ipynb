{
 "cells": [
  {
   "cell_type": "code",
   "execution_count": 1,
   "metadata": {},
   "outputs": [],
   "source": [
    "import Levenshtein  # package python-Levenshtein\n",
    "from sklearn.feature_extraction.text import TfidfVectorizer\n",
    "import numpy as np\n",
    "import json\n",
    "import os\n",
    "import csv\n",
    "import re\n",
    "import cPickle"
   ]
  },
  {
   "cell_type": "code",
   "execution_count": 18,
   "metadata": {},
   "outputs": [],
   "source": [
    "big_bot_data  = cPickle.load(open('big_bot_data.p', 'rb') )\n",
    "bot_names = big_bot_data.keys()"
   ]
  },
  {
   "cell_type": "code",
   "execution_count": 41,
   "metadata": {},
   "outputs": [
    {
     "ename": "NameError",
     "evalue": "name 'bot_data' is not defined",
     "output_type": "error",
     "traceback": [
      "\u001b[0;31m---------------------------------------------------------------------------\u001b[0m",
      "\u001b[0;31mNameError\u001b[0m                                 Traceback (most recent call last)",
      "\u001b[0;32m<ipython-input-41-8311866a33f5>\u001b[0m in \u001b[0;36m<module>\u001b[0;34m()\u001b[0m\n\u001b[1;32m      7\u001b[0m \u001b[0;34m\u001b[0m\u001b[0m\n\u001b[1;32m      8\u001b[0m \u001b[0mtfidf_vec\u001b[0m \u001b[0;34m=\u001b[0m \u001b[0mbuild_vectorizer\u001b[0m\u001b[0;34m(\u001b[0m\u001b[0mn_feats\u001b[0m\u001b[0;34m,\u001b[0m \u001b[0;34m\"english\"\u001b[0m\u001b[0;34m)\u001b[0m\u001b[0;34m\u001b[0m\u001b[0m\n\u001b[0;32m----> 9\u001b[0;31m \u001b[0mdoc_by_vocab\u001b[0m \u001b[0;34m=\u001b[0m \u001b[0mtfidf_vec\u001b[0m\u001b[0;34m.\u001b[0m\u001b[0mfit_transform\u001b[0m\u001b[0;34m(\u001b[0m\u001b[0;34m[\u001b[0m\u001b[0mbot_data\u001b[0m\u001b[0;34m[\u001b[0m\u001b[0md\u001b[0m\u001b[0;34m]\u001b[0m \u001b[0;32mfor\u001b[0m \u001b[0md\u001b[0m \u001b[0;32min\u001b[0m \u001b[0mbot_data\u001b[0m\u001b[0;34m.\u001b[0m\u001b[0mkeys\u001b[0m\u001b[0;34m(\u001b[0m\u001b[0;34m)\u001b[0m\u001b[0;34m]\u001b[0m\u001b[0;34m)\u001b[0m\u001b[0;34m.\u001b[0m\u001b[0mtoarray\u001b[0m\u001b[0;34m(\u001b[0m\u001b[0;34m)\u001b[0m\u001b[0;34m\u001b[0m\u001b[0m\n\u001b[0m",
      "\u001b[0;31mNameError\u001b[0m: name 'bot_data' is not defined"
     ]
    }
   ],
   "source": [
    "def build_vectorizer(max_features, stop_words, norm='l2'):\n",
    "return TfidfVectorizer(max_features = max_features, \n",
    "                            stop_words = stop_words,\n",
    "                            max_df = 0.9,\n",
    "                            min_df = 1,\n",
    "                            norm = norm)\n",
    "\n",
    "tfidf_vec = build_vectorizer(n_feats, \"english\")\n",
    "doc_by_vocab = tfidf_vec.fit_transform([bot_data[d] for d in bot_data.keys()]).toarray()\n",
    "with open('vectorizer.pk', 'wb') as fin:\n",
    "    pickle.dump(vectorizer, fin)"
   ]
  },
  {
   "cell_type": "code",
   "execution_count": 15,
   "metadata": {},
   "outputs": [],
   "source": [
    "n_feats = 2000\n",
    "doc_by_vocab = np.empty([len(big_bot_data), n_feats])\n",
    "\n",
    "def build_vectorizer(max_features, stop_words, norm='l2'):\n",
    "    return TfidfVectorizer(max_features = max_features, stop_words = stop_words, max_df = 0.9,\n",
    "\t\t\t\t\t\t\t\tmin_df = 1,\n",
    "\t\t\t\t\t\t\t\tnorm = norm)\n",
    "\t\n",
    "tfidf_vec = build_vectorizer(n_feats, \"english\")\n",
    "doc_by_vocab = tfidf_vec.fit_transform([big_bot_data[d] for d in big_bot_data.keys()]).toarray()\n",
    "\n",
    "def top_n_cos(n,query_string, tfidf):\n",
    "\tq_vec = tfidf.transform([query_string]).toarray()\n",
    "\tcosines = np.array([np.dot(q_vec, d) for d in doc_by_vocab]).T[0]\n",
    "\targs = np.argsort(cosines)[::-1][:n]\n",
    "\treturn [(index_to_botname[x], big_bot_data[index_to_botname[x]]) for x in args]"
   ]
  },
  {
   "cell_type": "code",
   "execution_count": 35,
   "metadata": {},
   "outputs": [],
   "source": [
    "def edit_distance(query_str, msg_str):\n",
    "    return Levenshtein.distance(query_str.lower(), msg_str.lower())\n",
    "\n",
    "def similar_names(query, msgs):\n",
    "    li = [(edit_distance(query, msg),msg) for msg in msgs]\n",
    "    li.sort(key=lambda x: x[0])\n",
    "    return li[0:5]"
   ]
  },
  {
   "cell_type": "code",
   "execution_count": 40,
   "metadata": {},
   "outputs": [],
   "source": [
    "(big_bot_data[bot_names[1]])\n",
    "for bot in big_bot_data:\n",
    "    comments = big_bot_data[bot]\n",
    "    for comment in comments:\n",
    "        body = comment[body]\n",
    "        print()\n",
    "    "
   ]
  },
  {
   "cell_type": "code",
   "execution_count": null,
   "metadata": {},
   "outputs": [],
   "source": []
  }
 ],
 "metadata": {
  "kernelspec": {
   "display_name": "projectvenv",
   "language": "python",
   "name": "projectvenv"
  },
  "language_info": {
   "codemirror_mode": {
    "name": "ipython",
    "version": 2
   },
   "file_extension": ".py",
   "mimetype": "text/x-python",
   "name": "python",
   "nbconvert_exporter": "python",
   "pygments_lexer": "ipython2",
   "version": "2.7.14"
  }
 },
 "nbformat": 4,
 "nbformat_minor": 2
}
